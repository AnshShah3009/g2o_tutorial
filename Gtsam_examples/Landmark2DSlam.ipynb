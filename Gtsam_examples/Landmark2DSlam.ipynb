{
 "cells": [
  {
   "cell_type": "code",
   "execution_count": 1,
   "metadata": {},
   "outputs": [],
   "source": [
    "import gtsam\n",
    "import numpy as np\n",
    "import matplotlib.pyplot as plt"
   ]
  },
  {
   "cell_type": "code",
   "execution_count": 6,
   "metadata": {},
   "outputs": [
    {
     "name": "stdout",
     "output_type": "stream",
     "text": [
      "Values with 6 values:\n",
      "Value l1: (Eigen::Matrix<double, -1, 1, 0, -1, 1>)\n",
      "[\n",
      "\t4;\n",
      "\t-4.59636e-08\n",
      "]\n",
      "\n",
      "Value l2: (Eigen::Matrix<double, -1, 1, 0, -1, 1>)\n",
      "[\n",
      "\t6;\n",
      "\t-4.59639e-08\n",
      "]\n",
      "\n",
      "Value o1: (gtsam::Pose2)\n",
      "(0, 0, 0)\n",
      "\n",
      "Value x1: (gtsam::Pose2)\n",
      "(2, 1.09173e-14, 8.18781e-15)\n",
      "\n",
      "Value x2: (gtsam::Pose2)\n",
      "(4, 3.27518e-14, 1.0917e-14)\n",
      "\n",
      "Value x3: (gtsam::Pose2)\n",
      "(6, 5.45857e-14, 1.0917e-14)\n",
      "\n"
     ]
    },
    {
     "data": {
      "text/plain": [
       "[<matplotlib.lines.Line2D at 0x7f82b6b96190>]"
      ]
     },
     "execution_count": 6,
     "metadata": {},
     "output_type": "execute_result"
    },
    {
     "data": {
      "image/png": "[encoded data removed]",
      "text/plain": [
       "<Figure size 640x480 with 1 Axes>"
      ]
     },
     "metadata": {},
     "output_type": "display_data"
    }
   ],
   "source": [
    "graph = gtsam.NonlinearFactorGraph()\n",
    "initialEstimate = gtsam.Values()\n",
    "\n",
    "# Add a prior on the first pose, setting it to the origin\n",
    "priorMean = gtsam.Pose2(0, 0, 0)\n",
    "priorNoise = gtsam.noiseModel.Diagonal.Sigmas(np.array([0.0, 0.0, 0.0]))\n",
    "prior_symbol = gtsam.symbol('o', 1)\n",
    "graph.add(gtsam.PriorFactorPose2(prior_symbol, priorMean, priorNoise))\n",
    "initialEstimate.insert(prior_symbol, priorMean)\n",
    "\n",
    "# Add odometry factors\n",
    "odometryNoise = gtsam.noiseModel.Diagonal.Sigmas(np.array([0.2, 0.2, 0.1]))\n",
    "odometry_symbol_1 = gtsam.symbol('x', 1)\n",
    "graph.add(gtsam.BetweenFactorPose2(prior_symbol, odometry_symbol_1, gtsam.Pose2(2, 0, 0), odometryNoise))\n",
    "initialEstimate.insert(odometry_symbol_1, gtsam.Pose2(2, 0, 0))\n",
    "\n",
    "odometry_symbol_2 = gtsam.symbol('x', 2)\n",
    "graph.add(gtsam.BetweenFactorPose2(odometry_symbol_1, odometry_symbol_2, gtsam.Pose2(2, 0, 0), odometryNoise))\n",
    "initialEstimate.insert(odometry_symbol_2, gtsam.Pose2(4, 0, 0))\n",
    "\n",
    "odometry_symbol_3 = gtsam.symbol('x', 3)\n",
    "graph.add(gtsam.BetweenFactorPose2(odometry_symbol_2, odometry_symbol_3, gtsam.Pose2(2, 0, 0), odometryNoise))\n",
    "initialEstimate.insert(odometry_symbol_3, gtsam.Pose2(6, 0, 0))\n",
    "\n",
    "# Add landmark observations\n",
    "landmarkNoise = gtsam.noiseModel.Diagonal.Sigmas(np.array([0.3, 0.3]))\n",
    "landmark_symbol_1 = gtsam.symbol('l', 1)\n",
    "graph.add(gtsam.BearingRangeFactor2D(odometry_symbol_1, landmark_symbol_1, gtsam.Rot2(0), 2, landmarkNoise))\n",
    "initialEstimate.insert(landmark_symbol_1, gtsam.Point2(2, 1))\n",
    "\n",
    "landmark_symbol_2 = gtsam.symbol('l', 2)\n",
    "graph.add(gtsam.BearingRangeFactor2D(odometry_symbol_2, landmark_symbol_2, gtsam.Rot2(0), 2, landmarkNoise))\n",
    "initialEstimate.insert(landmark_symbol_2, gtsam.Point2(4, 1))\n",
    "\n",
    "\n",
    "# optimize\n",
    "optimizer = gtsam.LevenbergMarquardtOptimizer(graph, initialEstimate)\n",
    "result = optimizer.optimize()\n",
    "result.print()\n",
    "\n",
    "# plot\n",
    "fig, ax = plt.subplots()\n",
    "ax.set_xlim([-1, 7])\n",
    "ax.set_ylim([-1, 3])\n",
    "ax.set_aspect('equal')\n",
    "\n",
    "# plot ground truth\n",
    "ax.plot([0, 2, 4, 6], [0, 0, 0, 0], 'k--', label='ground truth')\n",
    "\n",
    "# plot landmarks\n",
    "ax.plot([2, 4], [1, 1], 'ro', label='landmarks')\n",
    "\n",
    "# plot initial estimate\n",
    "initialEstimatePose = []\n",
    "for i in range(1,4):\n",
    "    initialEstimatePose.append(initialEstimate.atPose2(gtsam.symbol('x', i)))\n",
    "initialEstimatePose = np.array([[p.x(), p.y()] for p in initialEstimatePose])\n",
    "ax.plot(initialEstimatePose[:,0], initialEstimatePose[:,1], 'g', label='initial estimate')\n"
   ]
  },
  {
   "cell_type": "code",
   "execution_count": null,
   "metadata": {},
   "outputs": [],
   "source": []
  }
 ],
 "metadata": {
  "kernelspec": {
   "display_name": "gtsam",
   "language": "python",
   "name": "python3"
  },
  "language_info": {
   "codemirror_mode": {
    "name": "ipython",
    "version": 3
   },
   "file_extension": ".py",
   "mimetype": "text/x-python",
   "name": "python",
   "nbconvert_exporter": "python",
   "pygments_lexer": "ipython3",
   "version": "3.8.10"
  }
 },
 "nbformat": 4,
 "nbformat_minor": 2
}
